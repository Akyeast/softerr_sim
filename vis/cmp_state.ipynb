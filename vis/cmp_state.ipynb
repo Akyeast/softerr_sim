{
 "cells": [
  {
   "cell_type": "code",
   "execution_count": 1,
   "metadata": {},
   "outputs": [],
   "source": [
    "import matplotlib.pyplot as plt\n",
    "import numpy as np\n",
    "import pandas as pd\n",
    "import os\n",
    "from utils import get_file_data, get_config"
   ]
  },
  {
   "cell_type": "code",
   "execution_count": 6,
   "metadata": {},
   "outputs": [
    {
     "name": "stdout",
     "output_type": "stream",
     "text": [
      "['critical_prob=0.0&num_states=1&num_tasks=100&period=[10, 100]&task_max_utilization=0.4.txt', 'critical_prob=0.0&num_states=10&num_tasks=100&period=[10, 100]&task_max_utilization=0.4.txt', 'critical_prob=0.0&num_states=5&num_tasks=100&period=[10, 100]&task_max_utilization=0.4.txt', 'critical_prob=0.1&num_states=1&num_tasks=100&period=[10, 100]&task_max_utilization=0.4.txt', 'critical_prob=0.1&num_states=10&num_tasks=100&period=[10, 100]&task_max_utilization=0.4.txt', 'critical_prob=0.1&num_states=5&num_tasks=100&period=[10, 100]&task_max_utilization=0.4.txt', 'critical_prob=0.2&num_states=1&num_tasks=100&period=[10, 100]&task_max_utilization=0.4.txt', 'critical_prob=0.2&num_states=10&num_tasks=100&period=[10, 100]&task_max_utilization=0.4.txt', 'critical_prob=0.2&num_states=5&num_tasks=100&period=[10, 100]&task_max_utilization=0.4.txt', 'critical_prob=0.3&num_states=1&num_tasks=100&period=[10, 100]&task_max_utilization=0.4.txt', 'critical_prob=0.3&num_states=10&num_tasks=100&period=[10, 100]&task_max_utilization=0.4.txt', 'critical_prob=0.3&num_states=5&num_tasks=100&period=[10, 100]&task_max_utilization=0.4.txt', 'critical_prob=0.4&num_states=1&num_tasks=100&period=[10, 100]&task_max_utilization=0.4.txt', 'critical_prob=0.4&num_states=10&num_tasks=100&period=[10, 100]&task_max_utilization=0.4.txt', 'critical_prob=0.4&num_states=5&num_tasks=100&period=[10, 100]&task_max_utilization=0.4.txt']\n"
     ]
    }
   ],
   "source": [
    "file_path = '../output/state/'\n",
    "files = sorted(os.listdir(file_path))\n",
    "print(files)\n"
   ]
  },
  {
   "cell_type": "code",
   "execution_count": 7,
   "metadata": {},
   "outputs": [],
   "source": [
    "cfg = get_config('../cfg/state_exp_cfg.json')\n",
    "state_less = {}\n",
    "state_wise = {}\n",
    "\n",
    "critical_prob_list = cfg['critical_prob_list']\n",
    "\n",
    "for state_num in cfg['num_states_list'] :\n",
    "    state_less[str(state_num)] = [ 0 ] * len(critical_prob_list)\n",
    "    state_wise[str(state_num)] = [ 0 ] * len(critical_prob_list)"
   ]
  },
  {
   "cell_type": "code",
   "execution_count": 8,
   "metadata": {},
   "outputs": [],
   "source": [
    "critical_prob_index = {str(p): i for i, p in enumerate(critical_prob_list)}\n",
    "\n",
    "for file in files :\n",
    "    if not file.endswith('.txt') :\n",
    "        continue\n",
    "    _params = [p.split('=') for p in file[:-4].split('&')]\n",
    "    params = {k: v for k, v in _params}\n",
    "    data = get_file_data(file_path + file).split('\\n')\n",
    "    num_states = params['num_states']\n",
    "    critical_prob = params['critical_prob']\n",
    "\n",
    "    for line in data :\n",
    "        if line == '' :\n",
    "            continue\n",
    "        less, wise = [int(l) for l in line.split(',')]\n",
    "        state_less[num_states][critical_prob_index[critical_prob]] += less\n",
    "        state_wise[num_states][critical_prob_index[critical_prob]] += wise"
   ]
  },
  {
   "cell_type": "code",
   "execution_count": 9,
   "metadata": {},
   "outputs": [
    {
     "name": "stdout",
     "output_type": "stream",
     "text": [
      "{'1': [59.4, 56.88, 57.3, 58.48, 63.02], '5': [59.74, 62.34, 91.8, 110.66, 120.36], '10': [58.86, 87.22, 119.28, 127.56, 131.36]}\n",
      "{'1': [59.4, 56.88, 57.3, 58.48, 63.02], '5': [59.74, 59.6, 60.12, 62.04, 66.8], '10': [58.86, 58.84, 60.92, 62.82, 68.14]}\n"
     ]
    }
   ],
   "source": [
    "num_task_sets = cfg['num_task_sets']\n",
    "\n",
    "for k, v in state_less.items() :\n",
    "    state_less[k] = [l / num_task_sets for l in v]\n",
    "\n",
    "for k, v in state_wise.items() :\n",
    "    state_wise[k] = [l / num_task_sets for l in v]\n",
    "\n",
    "print(state_less)\n",
    "print(state_wise)"
   ]
  },
  {
   "cell_type": "code",
   "execution_count": null,
   "metadata": {},
   "outputs": [],
   "source": [
    "# Compare state-wise and state-less with criticality probability (#state = 5)\n",
    "\n",
    "plt.plot(critical_prob_list, state_less['5'], label='state-less', color='gray')\n",
    "plt.plot(critical_prob_list, state_wise['5'], label='state-wise', color='black', linestyle='dashed')\n",
    "\n",
    "plt.title('Compare state-less and state-wise (w/ #state = 5)')\n",
    "plt.xlabel('Critical Task Probability')\n",
    "plt.ylabel('Average of # Cores')\n",
    "plt.legend()\n",
    "plt.show()"
   ]
  },
  {
   "cell_type": "code",
   "execution_count": null,
   "metadata": {},
   "outputs": [],
   "source": [
    "# Compare state-wise and state-less with #states (#critical_prob = 0.3)\n",
    "\n",
    "index = critical_prob_index['0.3']\n",
    "\n",
    "plt.plot(critical_prob_list, state_less['5'], label='state-less', color='gray')\n",
    "plt.plot(critical_prob_list, state_wise['5'], label='state-wise', color='black', linestyle='dashed')\n",
    "\n",
    "plt.title('Compare state-less and state-wise (w/ #state = 5)')\n",
    "plt.xlabel('Number of States')\n",
    "plt.ylabel('Average of # Cores')\n",
    "plt.legend()\n",
    "plt.show()"
   ]
  }
 ],
 "metadata": {
  "kernelspec": {
   "display_name": "Python 3.10.6 64-bit",
   "language": "python",
   "name": "python3"
  },
  "language_info": {
   "codemirror_mode": {
    "name": "ipython",
    "version": 3
   },
   "file_extension": ".py",
   "mimetype": "text/x-python",
   "name": "python",
   "nbconvert_exporter": "python",
   "pygments_lexer": "ipython3",
   "version": "3.10.6"
  },
  "orig_nbformat": 4,
  "vscode": {
   "interpreter": {
    "hash": "b0fa6594d8f4cbf19f97940f81e996739fb7646882a419484c72d19e05852a7e"
   }
  }
 },
 "nbformat": 4,
 "nbformat_minor": 2
}
